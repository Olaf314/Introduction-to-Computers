{
  "nbformat": 4,
  "nbformat_minor": 0,
  "metadata": {
    "colab": {
      "provenance": [],
      "authorship_tag": "ABX9TyO6ISt8PbmuDKQmMweA/zdT",
      "include_colab_link": true
    },
    "kernelspec": {
      "name": "python3",
      "display_name": "Python 3"
    },
    "language_info": {
      "name": "python"
    }
  },
  "cells": [
    {
      "cell_type": "markdown",
      "metadata": {
        "id": "view-in-github",
        "colab_type": "text"
      },
      "source": [
        "<a href=\"https://colab.research.google.com/github/Olaf314/Introduction-to-Computers/blob/main/%E6%9C%9F%E4%B8%AD%E8%80%83%E8%A9%A6%E9%A1%8C%E7%9B%AE.ipynb\" target=\"_parent\"><img src=\"https://colab.research.google.com/assets/colab-badge.svg\" alt=\"Open In Colab\"/></a>"
      ]
    },
    {
      "cell_type": "code",
      "execution_count": 9,
      "metadata": {
        "colab": {
          "base_uri": "https://localhost:8080/"
        },
        "id": "AiWkz-X3Rzi4",
        "outputId": "19fdcb44-5e05-4d81-acbf-e73cb33a10b7"
      },
      "outputs": [
        {
          "output_type": "stream",
          "name": "stdout",
          "text": [
            "ccc\n",
            "ccc\n"
          ]
        }
      ],
      "source": [
        "a = input()\n",
        "print(a)"
      ]
    },
    {
      "cell_type": "code",
      "source": [
        "b = input()\n",
        "print(len(b))"
      ],
      "metadata": {
        "colab": {
          "base_uri": "https://localhost:8080/"
        },
        "id": "57_lDRjoTAA1",
        "outputId": "f0451a69-2a67-4f7f-b08c-d103c579556b"
      },
      "execution_count": 3,
      "outputs": [
        {
          "output_type": "stream",
          "name": "stdout",
          "text": [
            "bcbcbc\n",
            "6\n"
          ]
        }
      ]
    },
    {
      "cell_type": "code",
      "source": [
        "h,w = input().split( )\n",
        "nh = int(h)\n",
        "nw = int(w)\n",
        "mh = nh/100\n",
        "bmi = nw / mh**2\n",
        "print(\"%.2f\" % bmi)"
      ],
      "metadata": {
        "colab": {
          "base_uri": "https://localhost:8080/"
        },
        "id": "6oEAgMohTUkr",
        "outputId": "2c7eea64-003e-46bc-8bd6-51f06002f609"
      },
      "execution_count": 5,
      "outputs": [
        {
          "output_type": "stream",
          "name": "stdout",
          "text": [
            "120 20\n",
            "13.89\n"
          ]
        }
      ]
    },
    {
      "cell_type": "code",
      "source": [
        "n = int(input())\n",
        "for i in range (10,n):\n",
        "  n += i\n",
        "  print(n)"
      ],
      "metadata": {
        "colab": {
          "base_uri": "https://localhost:8080/"
        },
        "id": "BpHIA9JRUIzV",
        "outputId": "055efc4e-2c43-4a12-9273-ca159e33353d"
      },
      "execution_count": 8,
      "outputs": [
        {
          "output_type": "stream",
          "name": "stdout",
          "text": [
            "15\n",
            "25\n",
            "36\n",
            "48\n",
            "61\n",
            "75\n"
          ]
        }
      ]
    }
  ]
}
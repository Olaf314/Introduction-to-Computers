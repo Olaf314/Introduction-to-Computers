{
  "nbformat": 4,
  "nbformat_minor": 0,
  "metadata": {
    "colab": {
      "provenance": [],
      "authorship_tag": "ABX9TyMysEIA6lh5Jf2zxsMuxyw0",
      "include_colab_link": true
    },
    "kernelspec": {
      "name": "python3",
      "display_name": "Python 3"
    },
    "language_info": {
      "name": "python"
    }
  },
  "cells": [
    {
      "cell_type": "markdown",
      "metadata": {
        "id": "view-in-github",
        "colab_type": "text"
      },
      "source": [
        "<a href=\"https://colab.research.google.com/github/Olaf314/Introduction-to-Computers/blob/main/0517.ipynb\" target=\"_parent\"><img src=\"https://colab.research.google.com/assets/colab-badge.svg\" alt=\"Open In Colab\"/></a>"
      ]
    },
    {
      "cell_type": "code",
      "execution_count": 3,
      "metadata": {
        "colab": {
          "base_uri": "https://localhost:8080/"
        },
        "id": "fA2wM5VYRd8D",
        "outputId": "6454ab94-b885-49d2-a118-db608bb18be1"
      },
      "outputs": [
        {
          "output_type": "stream",
          "name": "stdout",
          "text": [
            "score:50\n",
            "Grade is: F\n"
          ]
        }
      ],
      "source": [
        "score=int(input(\"score:\"))\n",
        "if score >=90:\n",
        "  print('Grade is: A')\n",
        "elif score >= 80:\n",
        "  print('Grade is: B')\n",
        "\n",
        "elif score >= 70:\n",
        "  print('Grade is: C')\n",
        "\n",
        "elif score >= 60:\n",
        "  print('Grade is: D')\n",
        "else:\n",
        "  print(\"Grade is: F\")\n"
      ]
    },
    {
      "cell_type": "code",
      "source": [
        "成績=int(input(\"成績:\"))\n",
        "if 成績 >=90:\n",
        "  print('A')\n",
        "elif 89>= 成績 >=80:\n",
        "  print('B')\n",
        "elif 79>= 成績 >=70:\n",
        "  print('C')\n",
        "elif 69>= 成績 >=60:\n",
        "  print('D')\n",
        "else:\n",
        "  print(\"E\")"
      ],
      "metadata": {
        "colab": {
          "base_uri": "https://localhost:8080/"
        },
        "id": "dp8teXYwRo_V",
        "outputId": "a19e6aeb-dd74-44e6-d857-c28c35948490"
      },
      "execution_count": 4,
      "outputs": [
        {
          "output_type": "stream",
          "name": "stdout",
          "text": [
            "成績:50\n",
            "E\n"
          ]
        }
      ]
    },
    {
      "cell_type": "code",
      "source": [
        "體溫=int(input(\"體溫:\"))\n",
        "if 體溫 >=37.5:\n",
        "  print('體溫 is too high')\n",
        "elif 37.4>= 體溫 >=37:\n",
        "  print('體溫略高')\n",
        "elif 36.9>= 體溫 >=34:\n",
        "  print('體溫正常')\n",
        "else:\n",
        "  print(\"體溫異常，請重新測量\")"
      ],
      "metadata": {
        "colab": {
          "base_uri": "https://localhost:8080/"
        },
        "id": "NNolv0BGR2gB",
        "outputId": "689d87e9-b21b-462b-bdcb-11e2d66ea776"
      },
      "execution_count": 5,
      "outputs": [
        {
          "output_type": "stream",
          "name": "stdout",
          "text": [
            "體溫:37\n",
            "體溫略高\n"
          ]
        }
      ]
    },
    {
      "cell_type": "code",
      "source": [
        "month = int(input(\"請輸入月份：\"))\n",
        "\n",
        "if month in [3, 4, 5]:\n",
        "    print(month, \"月是春天！\")\n",
        "elif month in [6, 7, 8]:\n",
        "    print(month, \"月是夏天！\")\n",
        "elif month in [9, 10, 11]:\n",
        "    print(month, \"月是秋天！\")\n",
        "elif month in [12, 1, 2]:\n",
        "    print(month, \"月是冬天！\")\n",
        "else:\n",
        "    print(\"月份不在範圍內！\")\n",
        "\n"
      ],
      "metadata": {
        "colab": {
          "base_uri": "https://localhost:8080/"
        },
        "id": "SFvq4HH_R7JZ",
        "outputId": "f4818d01-4a1c-4422-dc91-ddec675a4fc7"
      },
      "execution_count": 6,
      "outputs": [
        {
          "output_type": "stream",
          "name": "stdout",
          "text": [
            "請輸入月份：12\n",
            "12 月是冬天！\n"
          ]
        }
      ]
    },
    {
      "cell_type": "code",
      "source": [
        "收入=int(input(\"收入:\"))\n",
        "if 收入 >=2000000:\n",
        "  print(\"付稅金額:\",收入*0.3,\"元\")\n",
        "elif 1999999>= 收入 >=1000000:\n",
        "  print(\"付稅金額:\",收入*0.21,\"元\")\n",
        "elif 999999>= 收入 >=600000:\n",
        "  print(\"付稅金額:\",收入*0.13,\"元\")\n",
        "elif 599999>= 收入 >=300000:\n",
        "  print(\"付稅金額:\",收入*0.06,\"元\")\n",
        "else:\n",
        "  print(\"付稅金額:0元\")"
      ],
      "metadata": {
        "colab": {
          "base_uri": "https://localhost:8080/"
        },
        "id": "YMbXF3QVR9gx",
        "outputId": "e48424fc-670e-4237-ce11-3b186e33c399"
      },
      "execution_count": 7,
      "outputs": [
        {
          "output_type": "stream",
          "name": "stdout",
          "text": [
            "收入:400000\n",
            "付稅金額: 24000.0 元\n"
          ]
        }
      ]
    },
    {
      "cell_type": "code",
      "source": [
        "rain = input(\"是否有下雨: \")\n",
        "\n",
        "if rain == \"Y\" or rain == \"y\":\n",
        "    print(\"出門記得帶傘\")\n",
        "elif rain == \"N\" or rain == \"n\":\n",
        "    print(\"不用帶傘\")\n",
        "else:\n",
        "    print(\"請重新輸入\")"
      ],
      "metadata": {
        "colab": {
          "base_uri": "https://localhost:8080/"
        },
        "id": "Nycd82lSR_9r",
        "outputId": "eac0bc72-4374-495a-e402-281c82bd3057"
      },
      "execution_count": 8,
      "outputs": [
        {
          "output_type": "stream",
          "name": "stdout",
          "text": [
            "是否有下雨: k\n",
            "請重新輸入\n"
          ]
        }
      ]
    }
  ]
}